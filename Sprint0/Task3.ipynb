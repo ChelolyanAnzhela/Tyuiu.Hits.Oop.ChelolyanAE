{
 "cells": [
  {
   "cell_type": "markdown",
   "metadata": {},
   "source": [
    "<h1 style=\"color:DodgerBlue\">Индивидальный проект</h1>"
   ]
  },
  {
   "cell_type": "markdown",
   "metadata": {},
   "source": [
    "<h2 style=\"color:DodgerBlue\">Название проекта:</h2>\n",
    "\n",
    "----\n",
    "\n",
    "### Вариант задания 24\n"
   ]
  },
  {
   "cell_type": "markdown",
   "metadata": {},
   "source": [
    "<h2 style=\"color:DodgerBlue\">Описание проекта:</h2>\n",
    "\n",
    "----\n",
    "\n",
    "Создать базовый класс Notification в C#, который будет представлять уведомления\n",
    "пользователям. На основе этого класса разработать 2-3 производных класса,\n",
    "демонстрирующих принципы наследования и полиморфизма. В каждом из классов\n",
    "должны быть реализованы новые атрибуты и методы, а также переопределены\n",
    "некоторые методы базового класса для демонстрации полиморфизма.\n",
    "\n",
    "Требования к базовому классу Notification:\n",
    "• Атрибуты: ID уведомления (NotificationId), Текст уведомления (MessageText),\n",
    "Тип уведомления (Type).\n",
    "• Методы:\n",
    "o DisplayNotification(): метод для отображения уведомления\n",
    "пользователю.\n",
    "o SendNotification(): метод для отправки уведомления.\n",
    "o GetNotificationDetails(): метод для получения деталей уведомления.\n",
    "Требования к производным классам:\n",
    "1. EmailУведомление (EmailNotification): Должно содержать дополнительные\n",
    "атрибуты, такие как Адрес электронной почты (EmailAddress).\n",
    "Метод SendNotification() должен быть переопределен для отправки\n",
    "уведомления по электронной почте.\n",
    "2. SMSУведомление (SMSNotification): Должно содержать дополнительные\n",
    "атрибуты, такие как Номер телефона (PhoneNumber).\n",
    "Метод SendNotification() должен быть переопределен для отправки\n",
    "уведомления через SMS.\n",
    "3. PushУведомление (PushNotification) (если требуется третий класс): Должно\n",
    "содержать дополнительные атрибуты, такие как Платформа (Platform,\n",
    "например, iOS или Android). Метод DisplayNotification() должен быть\n",
    "переопределен для отображения уведомления на мобильной платформе.\n"
   ]
  },
  {
   "cell_type": "markdown",
   "metadata": {},
   "source": [
    "<h2 style=\"color:DodgerBlue\">Реализация:</h2>\n",
    "\n",
    "----"
   ]
  },
  {
   "cell_type": "code",
   "execution_count": 3,
   "metadata": {
    "dotnet_interactive": {
     "language": "csharp"
    },
    "polyglot_notebook": {
     "kernelName": "csharp"
    }
   },
   "outputs": [
    {
     "name": "stdout",
     "output_type": "stream",
     "text": [
      " Уведомление 1: Реклама\n",
      "Отправленно Электронное уведомление: 1 на @nushe.ru\n",
      "ID уведомления :1. Тип уведомления:@nushe.ru. Сообщение: Реклама. | E-mail: @nushe.ru\n",
      " Уведомление 2: Реклама\n",
      "Отправленно SMS 2 на номер: 89829467266\n",
      "ID уведомления :2. Тип уведомления:89829467266. Сообщение: Реклама. | Телефон: 89829467266\n",
      "Отправленно push-уведомление: 3 на устройство IOS\n",
      "Тип уведомления: IOS\n",
      "ID уведомления :3. Тип уведомления:IOS. Сообщение: Реклама.,Платформа: IOS\n"
     ]
    }
   ],
   "source": [
    "using System;\n",
    "public class Notification\n",
    "{\n",
    "    public int Notificationld {get; set;}\n",
    "    public string MessegeText {get; set;}\n",
    "    public string Type {get; set;}\n",
    "    public Notification( int id, string messege, string type)\n",
    "    {\n",
    "        Notificationld=id;\n",
    "        MessegeText= messege;\n",
    "        Type=type;\n",
    "\n",
    "    }\n",
    "    public  virtual void DisplayNotification()\n",
    "    {\n",
    "       Console.WriteLine($\" Уведомление {Notificationld}: {MessegeText}\");\n",
    "    }\n",
    "    public virtual void SendNotification()\n",
    "    {\n",
    "        Console.WriteLine($\"Тип уведомления: {Type}\");\n",
    "    }\n",
    "    public virtual string GetNotificationDetails()\n",
    "    {\n",
    "        return ($\"ID уведомления :{Notificationld}. Тип уведомления:{Type}. Сообщение: {MessegeText}.\");\n",
    "    }\n",
    "}\n",
    "public class EmailNotification: Notification\n",
    "{\n",
    "    public string EmailAdress{get;set;}\n",
    "    public EmailNotification(int id, string messege, string email) : base(id,messege,email)\n",
    "    {\n",
    "        EmailAdress=email;\n",
    "    }\n",
    "    public override void SendNotification()\n",
    "    {\n",
    "        Console.WriteLine($\"Отправленно Электронное уведомление: {Notificationld} на {EmailAdress}\");\n",
    "    }\n",
    "    public override string GetNotificationDetails()\n",
    "    {\n",
    "        return $\"{base.GetNotificationDetails()} | E-mail: {EmailAdress}\";\n",
    "    }\n",
    "}\n",
    "public class SMSNotification : Notification\n",
    "{\n",
    "    public string PhoneNumber{get; set;}\n",
    "    public SMSNotification(int id, string messege, string sms): base(id,messege,sms)\n",
    "    {\n",
    "        PhoneNumber=sms;\n",
    "    }\n",
    "    public override void SendNotification()\n",
    "    {\n",
    "      Console.WriteLine($\"Отправленно SMS {Notificationld} на номер: {PhoneNumber}\");\n",
    "    }\n",
    "    public override string GetNotificationDetails()\n",
    "    {\n",
    "        return $\"{base.GetNotificationDetails()} | Телефон: {PhoneNumber}\";\n",
    "    }\n",
    "}\n",
    "public class PushNotification : Notification\n",
    "{\n",
    "    public string Platform{get; set;}\n",
    "    public PushNotification(int id, string messege, string platform): base(id,messege,platform)\n",
    "    {\n",
    "        Platform=platform;\n",
    "    }\n",
    "    public override void DisplayNotification()\n",
    "    {\n",
    "        Console.WriteLine($\"Отправленно push-уведомление: {Notificationld} на устройство {Platform}\");\n",
    "    }\n",
    "    public override string GetNotificationDetails()\n",
    "    {\n",
    "        return $\"{base.GetNotificationDetails()},Платформа: {Platform}\";\n",
    "    }\n",
    "}\n",
    "EmailNotification emailn=new EmailNotification(1,\"Реклама\",\"@nushe.ru\");\n",
    "SMSNotification smsn=new SMSNotification(2,\"Реклама\",\"89829467266\");\n",
    "PushNotification push=new PushNotification(3,\"Реклама\",\"IOS\");\n",
    "emailn.DisplayNotification();\n",
    "emailn.SendNotification();\n",
    "Console.WriteLine(emailn.GetNotificationDetails());\n",
    "smsn.DisplayNotification();\n",
    "smsn.SendNotification();\n",
    "Console.WriteLine(smsn.GetNotificationDetails());\n",
    "push.DisplayNotification();\n",
    "push.SendNotification();\n",
    "Console.WriteLine(push.GetNotificationDetails());\n",
    "\n",
    "\n"
   ]
  }
 ],
 "metadata": {
  "kernelspec": {
   "display_name": ".NET (C#)",
   "language": "C#",
   "name": ".net-csharp"
  },
  "polyglot_notebook": {
   "kernelInfo": {
    "defaultKernelName": "csharp",
    "items": [
     {
      "aliases": [],
      "languageName": "csharp",
      "name": "csharp"
     }
    ]
   }
  }
 },
 "nbformat": 4,
 "nbformat_minor": 2
}
